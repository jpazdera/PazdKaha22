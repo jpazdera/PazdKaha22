{
 "cells": [
  {
   "cell_type": "code",
   "execution_count": null,
   "id": "8f6addb8-b69b-4e5a-8ee1-7a6988a053fc",
   "metadata": {},
   "outputs": [],
   "source": [
    "import json\n",
    "import numpy as np\n",
    "import pandas as pd\n",
    "from glob import glob\n",
    "\n",
    "# Load set of participants who reported writing notes\n",
    "with open('../Data/WROTE_NOTES.txt', 'r') as f:\n",
    "    wn = {s.strip() for s in f.readlines()}"
   ]
  },
  {
   "cell_type": "markdown",
   "id": "53d7e48f-29f8-48af-b567-ac8cd9fbe9ec",
   "metadata": {},
   "source": [
    "# Create recall data table"
   ]
  },
  {
   "cell_type": "code",
   "execution_count": null,
   "id": "29314c71-232a-48b2-a9dd-72c147b4bf53",
   "metadata": {},
   "outputs": [],
   "source": [
    "# Create data frame\n",
    "columns = ['subject', 'experiment', 'wrote_notes', 'list_num', 'modality', \n",
    "           'list_length', 'pres_rate', 'start_position']\n",
    "columns += ['rec' + str(i) for i in range(1, 25)]\n",
    "df = pd.DataFrame(columns=columns)\n",
    "\n",
    "# Load data from each session\n",
    "datafiles = glob('../Data/data/MTK[0-9][0-9][0-9][0-9].json')\n",
    "for path in datafiles:\n",
    "    \n",
    "    with open(path, 'r') as f:\n",
    "        d = json.load(f)\n",
    "    \n",
    "    subj_df = dict(\n",
    "        # Session level info\n",
    "        subject = d['subject'],\n",
    "        experiment = [1 if len(np.unique(d['pres_mod'])) == 2 else 2] * 18,\n",
    "        wrote_notes = [int(d['subject'][0] in wn)] * 18,\n",
    "        \n",
    "        # List level info\n",
    "        list_num = np.arange(1, 19),\n",
    "        modality = d['pres_mod'],\n",
    "        list_length = d['list_len'],\n",
    "        pres_rate = d['pres_rate'],\n",
    "        \n",
    "        # Recall info\n",
    "        start_position = np.array(d['serialpos'])[:, 0]\n",
    "    )\n",
    "    \n",
    "    recalled = np.array(d['recalled'])\n",
    "    for i in range(24):\n",
    "        subj_df['rec%i' % (i+1)] = recalled[:, i]\n",
    "    \n",
    "    # Convert data into a data frame and add it to the full table\n",
    "    subj_df = pd.DataFrame(subj_df)\n",
    "    df = df.append(subj_df)\n",
    "    \n",
    "# Write CSVs\n",
    "df.to_csv('../Data/recall_data.csv', index=False, header=True)"
   ]
  },
  {
   "cell_type": "markdown",
   "id": "02998633-f8e2-417e-9728-64139f380e3f",
   "metadata": {},
   "source": [
    "# Create intrusion data table"
   ]
  },
  {
   "cell_type": "code",
   "execution_count": null,
   "id": "a24bbfca-1203-4654-a983-8a68831d5be9",
   "metadata": {},
   "outputs": [],
   "source": [
    "# Create data frame\n",
    "columns = ['subject', 'experiment', 'wrote_notes', \n",
    "           'enc_modality', 'ret_modality', 'plis', 'pli_recency']\n",
    "df = pd.DataFrame(columns=columns)\n",
    "\n",
    "# Load stats from each session\n",
    "statfiles = glob('../Data/stats/MTK[0-9][0-9][0-9][0-9].json')\n",
    "for path in statfiles:\n",
    "    \n",
    "    with open(path, 'r') as f:\n",
    "        d = json.load(f)\n",
    "    \n",
    "    # Determine subject ID and experiment number\n",
    "    subj = path[-1][-12:-5]\n",
    "    exp = 1 + ('plis_2factor' not in d)\n",
    "    \n",
    "    # Experiment 1 has a 2 x 2 design for intrusion modality\n",
    "    if exp == 1:\n",
    "        subj_df = dict(\n",
    "            # Session level info\n",
    "            subject = [subj] * 4,\n",
    "            experiment = [exp] * 4,\n",
    "            wrote_notes = [int(subj in wn)] * 4,\n",
    "\n",
    "            # Condition level info\n",
    "            enc_modality = ['v', 'v', 'a', 'a'],\n",
    "            ret_modality = ['v', 'a', 'v', 'a'],\n",
    "            plis = np.array(d['plis_2factor']).flatten(),\n",
    "            pli_recency = np.array(d['pli_recency_2factor'])[0].flatten()\n",
    "        )\n",
    "    \n",
    "    # Experiment 2 only has one modality per participant\n",
    "    else:\n",
    "        modality = 'v' if 'v' in d['plis'] else 'a'\n",
    "        subj_df = dict(\n",
    "            # Session level info\n",
    "            subject = [subj],\n",
    "            experiment = [exp],\n",
    "            wrote_notes = [int(subj in wn)],\n",
    "\n",
    "            # Condition level info\n",
    "            enc_modality = [modality],\n",
    "            ret_modality = [modality],\n",
    "            plis = [d['plis'][modality]],\n",
    "            pli_recency = [d['pli_recency'][modality][0]]\n",
    "        )\n",
    "    \n",
    "    # Convert data into a data frame and add it to the full table\n",
    "    subj_df = pd.DataFrame(subj_df)\n",
    "    df = df.append(subj_df)\n",
    "    \n",
    "# Write CSVs\n",
    "df.to_csv('../Data/intrusion_data.csv', index=False, header=True)"
   ]
  },
  {
   "cell_type": "code",
   "execution_count": null,
   "id": "c114b23a-97e7-40f0-ad1d-6a3cd7c4d1bd",
   "metadata": {},
   "outputs": [],
   "source": []
  }
 ],
 "metadata": {
  "kernelspec": {
   "display_name": "Python 3 (ipykernel)",
   "language": "python",
   "name": "python3"
  },
  "language_info": {
   "codemirror_mode": {
    "name": "ipython",
    "version": 3
   },
   "file_extension": ".py",
   "mimetype": "text/x-python",
   "name": "python",
   "nbconvert_exporter": "python",
   "pygments_lexer": "ipython3",
   "version": "3.8.11"
  }
 },
 "nbformat": 4,
 "nbformat_minor": 5
}
