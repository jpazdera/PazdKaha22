{
 "cells": [
  {
   "cell_type": "markdown",
   "id": "4fa6105f-7241-4d3a-893a-60f5d339c5b5",
   "metadata": {},
   "source": [
    "# JSON to CSV Converter\n",
    "\n",
    "This code combines the data from all participants into tables that can easily be read into R and used for statistical tests."
   ]
  },
  {
   "cell_type": "code",
   "execution_count": 1,
   "id": "aae42d31-4f8b-4bac-a717-8074946bf48c",
   "metadata": {},
   "outputs": [],
   "source": [
    "import json\n",
    "import numpy as np\n",
    "import pandas as pd\n",
    "from glob import glob\n",
    "\n",
    "# Load set of participants who reported writing notes\n",
    "with open('../Data/WROTE_NOTES.txt', 'r') as f:\n",
    "    wn = {s.strip() for s in f.readlines()}\n",
    "    \n",
    "# Get PEERS word pool\n",
    "wp = [s.lower() for s in np.loadtxt('../Data/wasnorm_wordpool.txt', dtype='U32')]"
   ]
  },
  {
   "cell_type": "markdown",
   "id": "53d7e48f-29f8-48af-b567-ac8cd9fbe9ec",
   "metadata": {},
   "source": [
    "# Create recall data table"
   ]
  },
  {
   "cell_type": "code",
   "execution_count": 44,
   "id": "29314c71-232a-48b2-a9dd-72c147b4bf53",
   "metadata": {},
   "outputs": [],
   "source": [
    "# Create data frame\n",
    "columns = ['subject', 'experiment', 'wrote_notes', 'list_num', 'modality', \n",
    "           'list_length', 'pres_rate', 'start_position']\n",
    "columns += ['rec' + str(i) for i in range(1, 25)]\n",
    "df = pd.DataFrame(columns=columns)\n",
    "\n",
    "# Load data from each session\n",
    "datafiles = glob('../Data/data/MTK[0-9][0-9][0-9][0-9].json')\n",
    "for path in datafiles[:2]:\n",
    "    \n",
    "    with open(path, 'r') as f:\n",
    "        d = json.load(f)\n",
    "    \n",
    "    # Convert presented words to word ID numbers by finding their position in the pool\n",
    "    pres_itemnos = np.searchsorted(wp, d['pres_words'], side='right')\n",
    "\n",
    "    subj_df = dict(\n",
    "        # Session level info\n",
    "        subject = d['subject'],\n",
    "        experiment = [1 if len(np.unique(d['pres_mod'])) == 2 else 2] * 18,\n",
    "        wrote_notes = [int(d['subject'][0] in wn)] * 18,\n",
    "        \n",
    "        # List level info\n",
    "        list_num = np.arange(1, 19),\n",
    "        modality = d['pres_mod'],\n",
    "        list_length = d['list_len'],\n",
    "        pres_rate = d['pres_rate'],\n",
    "        \n",
    "        # Recall info\n",
    "        start_position = np.array(d['serialpos'])[:, 0]\n",
    "    )\n",
    "    \n",
    "    # Create columns for presented items and whether they were recalled\n",
    "    recalled = np.array(d['recalled'])\n",
    "    ffr_recalled = np.array(d['ffr_recalled'])\n",
    "    for i in range(24):\n",
    "        subj_df['pres_itemno%i' % (i+1)] = pres_itemnos[:, i]\n",
    "    for i in range(24):\n",
    "        subj_df['rec%i' % (i+1)] = recalled[:, i]\n",
    "    for i in range(24):\n",
    "        subj_df['ffr_rec%i' % (i+1)] = ffr_recalled[:, i]\n",
    "\n",
    "    # Create columns for recalled items' serial positions (up to 48 recalls included)\n",
    "    rec_serialpos = np.array(d['serialpos'])\n",
    "    for i in range(min(rec_serialpos.shape[1], 48)):\n",
    "        subj_df['rec_serialpos%i' % (i+1)] = rec_serialpos[:, i]\n",
    "    padding = np.zeros(rec_serialpos.shape[0])\n",
    "    while i < 48:\n",
    "        subj_df['rec_serialpos%i' % (i+1)] = padding\n",
    "        i += 1\n",
    "    \n",
    "    # Convert data into a data frame and add it to the full table\n",
    "    subj_df = pd.DataFrame(subj_df)\n",
    "    df = pd.concat((df, subj_df))\n",
    "    \n",
    "# Write CSVs\n",
    "df.to_csv('../Data/recall_data_expanded.csv', index=False, header=True)"
   ]
  },
  {
   "cell_type": "code",
   "execution_count": null,
   "id": "c114b23a-97e7-40f0-ad1d-6a3cd7c4d1bd",
   "metadata": {},
   "outputs": [],
   "source": []
  }
 ],
 "metadata": {
  "kernelspec": {
   "display_name": "Python 3 (ipykernel)",
   "language": "python",
   "name": "python3"
  },
  "language_info": {
   "codemirror_mode": {
    "name": "ipython",
    "version": 3
   },
   "file_extension": ".py",
   "mimetype": "text/x-python",
   "name": "python",
   "nbconvert_exporter": "python",
   "pygments_lexer": "ipython3",
   "version": "3.10.4"
  }
 },
 "nbformat": 4,
 "nbformat_minor": 5
}
